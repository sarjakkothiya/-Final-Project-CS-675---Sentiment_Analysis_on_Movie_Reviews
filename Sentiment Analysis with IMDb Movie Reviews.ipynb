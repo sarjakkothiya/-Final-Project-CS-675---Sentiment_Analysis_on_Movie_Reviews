{
 "cells": [
  {
   "cell_type": "markdown",
   "id": "63f56f37",
   "metadata": {},
   "source": [
    "# CS 675 Final Project | Professor Buchi Okli"
   ]
  },
  {
   "cell_type": "markdown",
   "id": "fa763da7",
   "metadata": {},
   "source": [
    "# Sentiment Analysis with IMDb Movie Reviews"
   ]
  },
  {
   "cell_type": "code",
   "execution_count": 36,
   "id": "445a6213",
   "metadata": {},
   "outputs": [],
   "source": [
    "import nltk\n",
    "import os\n",
    "import random\n",
    "import numpy as np\n",
    "import matplotlib.pyplot as plt\n",
    "from nltk.corpus import movie_reviews\n",
    "from nltk.tokenize import word_tokenize\n",
    "from nltk.corpus import stopwords\n",
    "from nltk.stem import WordNetLemmatizer\n",
    "from sklearn.feature_extraction.text import CountVectorizer\n",
    "from sklearn.model_selection import train_test_split\n",
    "from sklearn.naive_bayes import MultinomialNB\n",
    "from sklearn.metrics import accuracy_score, classification_report, confusion_matrix\n",
    "from sklearn.utils import shuffle\n",
    "from sklearn.metrics import plot_confusion_matrix"
   ]
  },
  {
   "cell_type": "markdown",
   "id": "37029230",
   "metadata": {},
   "source": [
    "### Load movie reviews dataset"
   ]
  },
  {
   "cell_type": "code",
   "execution_count": 37,
   "id": "bd35a66a",
   "metadata": {},
   "outputs": [],
   "source": [
    "documents = [(list(movie_reviews.words(fileid)), category)\n",
    "             for category in movie_reviews.categories()\n",
    "             for fileid in movie_reviews.fileids(category)]"
   ]
  },
  {
   "cell_type": "code",
   "execution_count": 38,
   "id": "84bb3eef",
   "metadata": {},
   "outputs": [
    {
     "name": "stdout",
     "output_type": "stream",
     "text": [
      "Number of reviews: 2000\n"
     ]
    }
   ],
   "source": [
    "print(\"Number of reviews:\", len(documents))"
   ]
  },
  {
   "cell_type": "code",
   "execution_count": 39,
   "id": "f146090a",
   "metadata": {},
   "outputs": [
    {
     "name": "stdout",
     "output_type": "stream",
     "text": [
      "(['plot', ':', 'two', 'teen', 'couples', 'go', 'to', 'a', 'church', 'party', ',', 'drink', 'and', 'then', 'drive', '.', 'they', 'get', 'into', 'an', 'accident', '.', 'one', 'of', 'the', 'guys', 'dies', ',', 'but', 'his', 'girlfriend', 'continues', 'to', 'see', 'him', 'in', 'her', 'life', ',', 'and', 'has', 'nightmares', '.', 'what', \"'\", 's', 'the', 'deal', '?', 'watch', 'the', 'movie', 'and', '\"', 'sorta', '\"', 'find', 'out', '.', '.', '.', 'critique', ':', 'a', 'mind', '-', 'fuck', 'movie', 'for', 'the', 'teen', 'generation', 'that', 'touches', 'on', 'a', 'very', 'cool', 'idea', ',', 'but', 'presents', 'it', 'in', 'a', 'very', 'bad', 'package', '.', 'which', 'is', 'what', 'makes', 'this', 'review', 'an', 'even', 'harder', 'one', 'to', 'write', ',', 'since', 'i', 'generally', 'applaud', 'films', 'which', 'attempt', 'to', 'break', 'the', 'mold', ',', 'mess', 'with', 'your', 'head', 'and', 'such', '(', 'lost', 'highway', '&', 'memento', ')', ',', 'but', 'there', 'are', 'good', 'and', 'bad', 'ways', 'of', 'making', 'all', 'types', 'of', 'films', ',', 'and', 'these', 'folks', 'just', 'didn', \"'\", 't', 'snag', 'this', 'one', 'correctly', '.', 'they', 'seem', 'to', 'have', 'taken', 'this', 'pretty', 'neat', 'concept', ',', 'but', 'executed', 'it', 'terribly', '.', 'so', 'what', 'are', 'the', 'problems', 'with', 'the', 'movie', '?', 'well', ',', 'its', 'main', 'problem', 'is', 'that', 'it', \"'\", 's', 'simply', 'too', 'jumbled', '.', 'it', 'starts', 'off', '\"', 'normal', '\"', 'but', 'then', 'downshifts', 'into', 'this', '\"', 'fantasy', '\"', 'world', 'in', 'which', 'you', ',', 'as', 'an', 'audience', 'member', ',', 'have', 'no', 'idea', 'what', \"'\", 's', 'going', 'on', '.', 'there', 'are', 'dreams', ',', 'there', 'are', 'characters', 'coming', 'back', 'from', 'the', 'dead', ',', 'there', 'are', 'others', 'who', 'look', 'like', 'the', 'dead', ',', 'there', 'are', 'strange', 'apparitions', ',', 'there', 'are', 'disappearances', ',', 'there', 'are', 'a', 'looooot', 'of', 'chase', 'scenes', ',', 'there', 'are', 'tons', 'of', 'weird', 'things', 'that', 'happen', ',', 'and', 'most', 'of', 'it', 'is', 'simply', 'not', 'explained', '.', 'now', 'i', 'personally', 'don', \"'\", 't', 'mind', 'trying', 'to', 'unravel', 'a', 'film', 'every', 'now', 'and', 'then', ',', 'but', 'when', 'all', 'it', 'does', 'is', 'give', 'me', 'the', 'same', 'clue', 'over', 'and', 'over', 'again', ',', 'i', 'get', 'kind', 'of', 'fed', 'up', 'after', 'a', 'while', ',', 'which', 'is', 'this', 'film', \"'\", 's', 'biggest', 'problem', '.', 'it', \"'\", 's', 'obviously', 'got', 'this', 'big', 'secret', 'to', 'hide', ',', 'but', 'it', 'seems', 'to', 'want', 'to', 'hide', 'it', 'completely', 'until', 'its', 'final', 'five', 'minutes', '.', 'and', 'do', 'they', 'make', 'things', 'entertaining', ',', 'thrilling', 'or', 'even', 'engaging', ',', 'in', 'the', 'meantime', '?', 'not', 'really', '.', 'the', 'sad', 'part', 'is', 'that', 'the', 'arrow', 'and', 'i', 'both', 'dig', 'on', 'flicks', 'like', 'this', ',', 'so', 'we', 'actually', 'figured', 'most', 'of', 'it', 'out', 'by', 'the', 'half', '-', 'way', 'point', ',', 'so', 'all', 'of', 'the', 'strangeness', 'after', 'that', 'did', 'start', 'to', 'make', 'a', 'little', 'bit', 'of', 'sense', ',', 'but', 'it', 'still', 'didn', \"'\", 't', 'the', 'make', 'the', 'film', 'all', 'that', 'more', 'entertaining', '.', 'i', 'guess', 'the', 'bottom', 'line', 'with', 'movies', 'like', 'this', 'is', 'that', 'you', 'should', 'always', 'make', 'sure', 'that', 'the', 'audience', 'is', '\"', 'into', 'it', '\"', 'even', 'before', 'they', 'are', 'given', 'the', 'secret', 'password', 'to', 'enter', 'your', 'world', 'of', 'understanding', '.', 'i', 'mean', ',', 'showing', 'melissa', 'sagemiller', 'running', 'away', 'from', 'visions', 'for', 'about', '20', 'minutes', 'throughout', 'the', 'movie', 'is', 'just', 'plain', 'lazy', '!', '!', 'okay', ',', 'we', 'get', 'it', '.', '.', '.', 'there', 'are', 'people', 'chasing', 'her', 'and', 'we', 'don', \"'\", 't', 'know', 'who', 'they', 'are', '.', 'do', 'we', 'really', 'need', 'to', 'see', 'it', 'over', 'and', 'over', 'again', '?', 'how', 'about', 'giving', 'us', 'different', 'scenes', 'offering', 'further', 'insight', 'into', 'all', 'of', 'the', 'strangeness', 'going', 'down', 'in', 'the', 'movie', '?', 'apparently', ',', 'the', 'studio', 'took', 'this', 'film', 'away', 'from', 'its', 'director', 'and', 'chopped', 'it', 'up', 'themselves', ',', 'and', 'it', 'shows', '.', 'there', 'might', \"'\", 've', 'been', 'a', 'pretty', 'decent', 'teen', 'mind', '-', 'fuck', 'movie', 'in', 'here', 'somewhere', ',', 'but', 'i', 'guess', '\"', 'the', 'suits', '\"', 'decided', 'that', 'turning', 'it', 'into', 'a', 'music', 'video', 'with', 'little', 'edge', ',', 'would', 'make', 'more', 'sense', '.', 'the', 'actors', 'are', 'pretty', 'good', 'for', 'the', 'most', 'part', ',', 'although', 'wes', 'bentley', 'just', 'seemed', 'to', 'be', 'playing', 'the', 'exact', 'same', 'character', 'that', 'he', 'did', 'in', 'american', 'beauty', ',', 'only', 'in', 'a', 'new', 'neighborhood', '.', 'but', 'my', 'biggest', 'kudos', 'go', 'out', 'to', 'sagemiller', ',', 'who', 'holds', 'her', 'own', 'throughout', 'the', 'entire', 'film', ',', 'and', 'actually', 'has', 'you', 'feeling', 'her', 'character', \"'\", 's', 'unraveling', '.', 'overall', ',', 'the', 'film', 'doesn', \"'\", 't', 'stick', 'because', 'it', 'doesn', \"'\", 't', 'entertain', ',', 'it', \"'\", 's', 'confusing', ',', 'it', 'rarely', 'excites', 'and', 'it', 'feels', 'pretty', 'redundant', 'for', 'most', 'of', 'its', 'runtime', ',', 'despite', 'a', 'pretty', 'cool', 'ending', 'and', 'explanation', 'to', 'all', 'of', 'the', 'craziness', 'that', 'came', 'before', 'it', '.', 'oh', ',', 'and', 'by', 'the', 'way', ',', 'this', 'is', 'not', 'a', 'horror', 'or', 'teen', 'slasher', 'flick', '.', '.', '.', 'it', \"'\", 's', 'just', 'packaged', 'to', 'look', 'that', 'way', 'because', 'someone', 'is', 'apparently', 'assuming', 'that', 'the', 'genre', 'is', 'still', 'hot', 'with', 'the', 'kids', '.', 'it', 'also', 'wrapped', 'production', 'two', 'years', 'ago', 'and', 'has', 'been', 'sitting', 'on', 'the', 'shelves', 'ever', 'since', '.', 'whatever', '.', '.', '.', 'skip', 'it', '!', 'where', \"'\", 's', 'joblo', 'coming', 'from', '?', 'a', 'nightmare', 'of', 'elm', 'street', '3', '(', '7', '/', '10', ')', '-', 'blair', 'witch', '2', '(', '7', '/', '10', ')', '-', 'the', 'crow', '(', '9', '/', '10', ')', '-', 'the', 'crow', ':', 'salvation', '(', '4', '/', '10', ')', '-', 'lost', 'highway', '(', '10', '/', '10', ')', '-', 'memento', '(', '10', '/', '10', ')', '-', 'the', 'others', '(', '9', '/', '10', ')', '-', 'stir', 'of', 'echoes', '(', '8', '/', '10', ')'], 'neg')\n"
     ]
    }
   ],
   "source": [
    "print(documents[0])"
   ]
  },
  {
   "cell_type": "markdown",
   "id": "8cf07aa1",
   "metadata": {},
   "source": [
    "### Shuffle the documents"
   ]
  },
  {
   "cell_type": "code",
   "execution_count": 40,
   "id": "9acf4db2",
   "metadata": {},
   "outputs": [],
   "source": [
    "documents = shuffle(documents)"
   ]
  },
  {
   "cell_type": "code",
   "execution_count": 41,
   "id": "896784a7",
   "metadata": {},
   "outputs": [
    {
     "name": "stdout",
     "output_type": "stream",
     "text": [
      "(['writer', '/', 'director', 'lawrence', 'kasdan', 'had', 'a', 'hand', 'in', 'penning', 'some', 'of', 'the', 'biggest', 'film', 'successes', 'of', 'the', '1980s', '.', 'yes', ',', 'that', \"'\", 's', 'right', ',', 'he', 'co', '-', 'wrote', 'raiders', 'of', 'the', 'lost', 'ark', '(', '9', '/', '10', ')', ',', 'the', 'empire', 'strikes', 'back', '(', '8', '.', '5', '/', '10', ')', 'and', 'return', 'of', 'the', 'jedi', '(', '8', '/', '10', ')', '.', 'now', 'with', 'this', 'film', ',', 'it', 'looks', 'as', 'though', 'he', 'has', 'decided', 'to', 'test', 'his', 'skills', 'at', 'mediocre', 'screenwriting', 'and', 'bland', 'directing', '.', 'and', 'guess', 'what', '?', 'he', 'succeeds', 'once', 'again', '!', 'plot', ':', 'a', 'man', 'with', 'a', 'shady', 'and', 'regrettable', 'past', 'decides', 'to', 'run', 'away', 'and', 'into', 'a', 'small', 'american', 'town', ',', 'where', 'he', 'pretends', 'to', 'be', 'a', 'licensed', 'psychologist', 'to', 'an', 'open', '-', 'armed', 'swarm', 'of', 'people', 'with', 'problems', '.', 'it', 'isn', \"'\", 't', 'long', 'before', 'he', 'befriends', 'the', 'small', '-', 'town', 'billionaire', ',', 'folks', 'become', 'suspicious', 'and', 'he', 'falls', 'for', 'one', 'of', 'his', 'own', 'patients', '.', 'critique', ':', 'this', 'film', 'is', 'not', 'a', 'comedy', '!', 'it', 'is', 'a', 'drama', '.', 'i', 'say', 'this', 'right', 'up', 'front', 'because', 'from', 'the', 'looks', 'of', 'the', 'trailer', ',', 'you', 'would', 'think', 'that', 'this', 'film', 'secures', 'its', 'base', 'in', 'humor', ',', 'but', 'unfortunately', 'for', 'us', ',', 'it', 'does', 'not', '.', 'it', 'is', 'a', 'serious', 'film', '(', 'seriously', 'flawed', 'if', 'you', 'ask', 'me', ',', 'but', 'i', 'digress', ')', 'which', 'offers', 'a', 'couple', 'of', 'witty', 'quips', 'to', 'keep', 'you', 'awake', ',', 'but', 'overall', ',', 'just', 'sits', 'there', '.', 'now', 'on', 'to', 'my', 'review', '.', 'this', 'movie', 'sucks', 'because', 'it', 'was', 'slow', 'and', 'boring', ',', 'starred', 'an', 'uninteresting', 'protagonist', 'with', 'an', 'unbelievable', 'past', ',', 'included', 'extremely', 'dull', 'patients', 'whose', 'problems', 'left', 'me', 'indifferent', 'at', 'best', 'and', 'pissed', 'at', 'worst', ',', 'and', 'certified', 'it', 'all', 'with', 'many', 'a', 'predictable', 'ending', '.', 'i', 'have', 'no', 'idea', 'what', 'lawrence', 'kasdan', 'was', 'trying', 'to', 'accomplish', 'with', 'this', 'picture', ',', 'but', 'whatever', 'it', 'was', '.', '.', '.', 'he', 'missed', '!', 'anyone', 'without', 'his', 'name', 'could', 'never', 'have', 'made', 'this', 'film', 'because', 'it', 'is', 'an', 'extremely', 'generic', 'puff', '-', 'piece', ',', 'which', 'on', 'a', 'good', 'day', ',', 'might', 'be', 'described', 'as', 'predictably', 'digestible', '.', 'it', \"'\", 's', 'no', 'wonder', 'that', 'the', 'studio', 'is', 'trying', 'to', 'sell', 'it', 'as', 'a', 'comedy', '!', 'it', 'sucks', 'as', 'a', 'drama', ',', 'and', 'bored', 'my', 'movie', 'cohort', 'right', 'to', 'sleep', '.', 'i', \"'\", 've', 'given', 'it', 'four', 'points', 'on', 'four', 'extremely', 'shallow', 'yet', 'distinguishable', 'marks', '.', 'first', 'of', 'all', ',', 'i', 'couldn', \"'\", 't', 'help', 'but', 'think', 'about', 'how', 'much', 'the', 'lead', 'actor', ',', 'loren', 'dean', ',', 'looked', 'like', 'a', 'young', 'charles', 'grodin', '.', 'he', 'even', 'acted', 'like', 'him', ',', 'save', 'for', 'the', 'dry', ',', 'sardonic', 'wit', '.', 'this', 'kept', 'me', 'interested', 'in', 'watching', 'him', 'at', 'least', '.', 'number', 'two', ',', 'and', 'this', 'one', 'is', 'really', 'shallow', '(', 'seemed', 'to', 'be', 'geared', 'that', 'way', 'as', 'well', ')', ',', 'there', 'were', 'quite', 'a', 'few', '\"', 'titshots', '\"', ',', 'as', 'they', 'would', 'say', 'back', 'in', 'high', 'school', '.', 'and', 'god', 'help', 'me', 'if', 'i', 'can', \"'\", 't', 'get', 'enough', 'of', 'those', 'in', 'an', 'aimless', 'drama', '.', 'and', 'three', ',', 'and', 'this', 'one', 'surprised', 'me', 'the', 'most', ',', 'actor', 'ted', 'danson', \"'\", 's', 'cameo', '(', 'yes', ',', 'he', 'will', 'always', 'be', 'sam', 'malone', 'to', 'us', 'real', 'fans', '!', ')', 'was', 'the', 'best', 'part', 'about', 'this', 'movie', 'and', 'actually', 'made', 'me', 'see', 'him', 'as', 'a', 'different', 'person', '.', 'a', 'different', 'asshole', ',', 'but', 'a', 'different', 'person', 'nonetheless', '.', 'if', 'ever', 'you', 'rent', 'this', 'movie', 'one', 'day', '(', 'promise', 'you', 'won', \"'\", 't', 'throw', 'away', 'your', 'hard', '-', 'earned', 'money', 'at', 'the', 'theaters', '?', '!', ')', ',', 'wait', 'for', 'his', 'scene', 'because', 'it', \"'\", 's', 'actually', 'pretty', 'good', '.', 'other', 'than', 'that', ',', 'drab', ',', 'drab', ',', 'drab', 'and', 'drab', '.', 'even', 'jason', 'lee', ',', 'a', 'personal', 'favorite', 'of', 'mine', ',', 'was', 'left', 'out', 'to', 'dry', 'with', 'lame', 'dialogue', 'and', 'one', 'of', 'the', 'phoniest', 'romances', 'to', 'hit', 'the', 'big', 'screen', 'in', 'a', 'while', '.', 'well', ',', 'at', 'least', 'he', 'finally', '\"', 'came', 'out', '\"', 'and', 'did', 'some', 'real', 'skateboarding', 'in', 'this', 'movie', '!', 'oh', 'yeah', ',', 'and', 'i', 'guess', 'that', \"'\", 's', 'the', 'fourth', 'point', 'in', 'my', 'rating', '.', 'anyway', ',', 'if', 'you', 'enjoy', 'watching', 'boring', 'patients', 'babble', 'on', 'about', 'their', 'boring', 'problems', 'to', 'an', 'uninteresting', 'psychologist', '.', '.', '.', 'this', 'film', \"'\", 's', 'your', 'bag', '!', 'otherwise', ',', 'skip', 'it', 'and', 'see', 'analyze', 'this', '(', '8', '/', '10', ')', 'again', '.', '.', '.', 'now', 'there', \"'\", 's', 'a', 'great', 'shrink', 'movie', '!', 'little', 'known', 'facts', 'about', 'this', 'film', 'and', 'its', 'stars', ':', '\"', 'three', \"'\", 's', 'company', '\"', 'fans', 'alert', '!', '!', '!', 'terri', 'from', 'the', 'tv', 'show', ',', 'also', 'known', 'as', 'actress', 'priscilla', 'barnes', ',', 'plays', 'a', 'small', 'but', 'pivotal', 'part', 'as', 'the', 'landlady', 'in', 'this', 'film', '.', 'the', 'scene', 'is', 'actually', 'a', 'fantasy', 'sequence', 'and', 'does', 'feature', 'cleavage', ',', 'so', 'stay', 'tuned', ',', 'kids', '!', 'also', ',', 'it', 'is', 'to', 'note', 'that', 'the', 'actress', 'was', 'once', 'named', '\"', 'penthouse', 'pet', 'of', 'the', 'month', '\"', 'in', 'march', 'of', '1976', '.', 'she', 'was', 'known', 'as', 'one', 'joann', 'witty', 'back', 'then', '.', 'she', \"'\", 's', 'originally', 'from', 'jersey', '.', 'who', 'the', 'hell', 'is', 'loren', 'dean', ',', 'the', 'dude', 'who', 'plays', 'mumford', 'in', 'this', 'film', '?', 'you', 'got', 'me', ',', 'but', 'all', 'i', 'know', 'is', 'that', 'he', 'was', 'born', 'in', 'las', 'vegas', 'in', '1969', 'and', 'played', 'the', 'character', 'of', 'billy', 'bathgate', 'in', 'the', '1991', 'film', 'of', 'the', 'same', 'name', '.', 'jason', 'lee', 'was', 'born', 'in', 'the', 'state', 'of', 'california', 'in', 'the', 'year', 'of', '1971', '.', 'he', 'was', 'a', 'professional', 'skateboarder', 'before', 'his', 'acting', 'career', 'took', 'off', 'after', 'mallrats', '(', '6', '/', '10', ')', ',', 'and', 'even', 'owns', 'his', 'own', 'skateboarding', 'company', 'called', 'stereo', 'manufacturing', 'corp', '.', 'he', \"'\", 's', 'been', 'in', 'every', 'kevin', 'smith', 'film', 'except', 'for', 'clerks', '(', '8', '.', '5', '/', '10', ')', '.', 'listen', 'closely', 'and', 'you', 'will', 'hear', 'the', 'pharmacist', 'in', 'this', 'film', '(', 'the', 'ballooning', 'actor', 'formerly', 'known', 'as', 'pruit', 'taylor', 'vince', ')', 'make', 'a', 'reference', 'to', 'the', '\"', 'lost', 'ark', '\"', ',', 'which', 'is', 'obviously', 'an', 'in', '-', 'joke', ',', 'considering', 'that', 'it', 'is', 'the', 'writer', '/', 'director', 'of', 'this', 'film', ',', 'lawrence', 'kasdan', ',', 'who', 'co', '-', 'wrote', 'raiders', 'of', 'the', 'lost', 'ark', '(', '9', '/', '10', ')', '.', 'kasdan', 'also', 'played', 'the', 'part', 'of', 'dr', '.', 'green', 'in', '1997', \"'\", 's', 'as', 'good', 'as', 'it', 'gets', '(', '8', '/', '10', ')', '.', 'ted', 'danson', 'also', 'played', 'the', 'role', 'of', 'lawyer', 'peter', 'lowenstein', 'in', 'kasdan', \"'\", 's', '1981', 'directorial', 'debut', 'body', 'heat', 'starring', 'a', 'sexy', 'kathleen', 'turner', 'and', 'william', 'hurt', '.'], 'neg')\n"
     ]
    }
   ],
   "source": [
    "print(documents[0])"
   ]
  },
  {
   "cell_type": "markdown",
   "id": "b4450a12",
   "metadata": {},
   "source": [
    "### Preprocess the text data"
   ]
  },
  {
   "cell_type": "code",
   "execution_count": 42,
   "id": "39a51054",
   "metadata": {},
   "outputs": [],
   "source": [
    "stop_words = set(stopwords.words('english'))\n",
    "lemmatizer = WordNetLemmatizer()\n",
    "\n",
    "def preprocess_text(text):\n",
    "    words = [word.lower() for word in text if word.isalpha()]\n",
    "    words = [word for word in words if word not in stop_words]\n",
    "    words = [lemmatizer.lemmatize(word) for word in words]\n",
    "    return ' '.join(words)"
   ]
  },
  {
   "cell_type": "code",
   "execution_count": 43,
   "id": "f9cb087d",
   "metadata": {},
   "outputs": [],
   "source": [
    "featuresets = [(preprocess_text(words), category) for words, category in documents]"
   ]
  },
  {
   "cell_type": "code",
   "execution_count": 44,
   "id": "e38256cc",
   "metadata": {},
   "outputs": [
    {
     "name": "stdout",
     "output_type": "stream",
     "text": [
      "('writer director lawrence kasdan hand penning biggest film success yes right co wrote raider lost ark empire strike back return jedi film look though decided test skill mediocre screenwriting bland directing guess succeeds plot man shady regrettable past decides run away small american town pretend licensed psychologist open armed swarm people problem long befriends small town billionaire folk become suspicious fall one patient critique film comedy drama say right front look trailer would think film secures base humor unfortunately u serious film seriously flawed ask digress offer couple witty quip keep awake overall sits review movie suck slow boring starred uninteresting protagonist unbelievable past included extremely dull patient whose problem left indifferent best pissed worst certified many predictable ending idea lawrence kasdan trying accomplish picture whatever missed anyone without name could never made film extremely generic puff piece good day might described predictably digestible wonder studio trying sell comedy suck drama bored movie cohort right sleep given four point four extremely shallow yet distinguishable mark first help think much lead actor loren dean looked like young charles grodin even acted like save dry sardonic wit kept interested watching least number two one really shallow seemed geared way well quite titshots would say back high school god help get enough aimless drama three one surprised actor ted danson cameo yes always sam malone u real fan best part movie actually made see different person different asshole different person nonetheless ever rent movie one day promise throw away hard earned money theater wait scene actually pretty good drab drab drab drab even jason lee personal favorite mine left dry lame dialogue one phoniest romance hit big screen well least finally came real skateboarding movie oh yeah guess fourth point rating anyway enjoy watching boring patient babble boring problem uninteresting psychologist film bag otherwise skip see analyze great shrink movie little known fact film star three company fan alert terri tv show also known actress priscilla barnes play small pivotal part landlady film scene actually fantasy sequence feature cleavage stay tuned kid also note actress named penthouse pet month march known one joann witty back originally jersey hell loren dean dude play mumford film got know born la vega played character billy bathgate film name jason lee born state california year professional skateboarder acting career took mallrats even owns skateboarding company called stereo manufacturing corp every kevin smith film except clerk listen closely hear pharmacist film ballooning actor formerly known pruit taylor vince make reference lost ark obviously joke considering writer director film lawrence kasdan co wrote raider lost ark kasdan also played part dr green good get ted danson also played role lawyer peter lowenstein kasdan directorial debut body heat starring sexy kathleen turner william hurt', 'neg')\n"
     ]
    }
   ],
   "source": [
    "print(featuresets[0])"
   ]
  },
  {
   "cell_type": "markdown",
   "id": "0134ed29",
   "metadata": {},
   "source": [
    "### Split the dataset into training and testing sets"
   ]
  },
  {
   "cell_type": "code",
   "execution_count": 45,
   "id": "7471e012",
   "metadata": {},
   "outputs": [
    {
     "name": "stdout",
     "output_type": "stream",
     "text": [
      "Training set size: 1600\n",
      "Testing set size: 400\n"
     ]
    }
   ],
   "source": [
    "X, y = zip(*featuresets)\n",
    "X_train, X_test, y_train, y_test = train_test_split(X, y, test_size=0.2, random_state=42)\n",
    "\n",
    "print(\"Training set size:\", len(X_train))\n",
    "print(\"Testing set size:\", len(X_test))"
   ]
  },
  {
   "cell_type": "code",
   "execution_count": 46,
   "id": "d79a71a3",
   "metadata": {},
   "outputs": [
    {
     "name": "stdout",
     "output_type": "stream",
     "text": [
      "Sample review in training set:\n",
      "hearing review woody allen upteenth movie history celebrity range terribly boring heart lept opening image film closely resembled manhattan personal favorite personal favorite director time woody allen film almost never rely visual flair textual flair one film closely resembles one time two entity fit hand hand manhattan really one best looking film ever seen beautiful black white photography city best area etc fan help feel visibly moved film open usual credit plain white font black background old ironic standard playing soundtrack screen fill gorgeous dull gray sky word help spelled airplane beethoven blast soundtrack city seems stop take notice moment rather lovely look cut film crew shooting film hilariously banal key moment film lead actress film melanie griffith looking buxom beautiful ever realize something wrong life whatever terribly stale scene woody allen film great opening shot without heart sank soon got used fact new film going great past work though record last year deconstructing harry came awfully close hell happened man could relied neurotic freshness cinema become le funny film become le insightful like tossed together unfinished idea bullet broadway though wonderful relies irony pull farce never totally take mighty aphrodite full great moment line really great story everyone say love great idea great film even deconstructing harry admittingly cheap way even top one truly hilarious film anything reception celebrity everyone tip allen fact time audience critic wrong wonderful film celebrity yes good film marginally satisfying woody allen film instead creating great woody allen world created world subject know bit fashioned film based almost entirely uninformed philosophy celebrity play like series skit minor connection like la dolce vita without accuracy right amount wit correct personal crisis woody becoming insecure old age choses drop woody allen character world celebrity hang flaw scrutiny casting brit actor kenneth branagh lead much said performance dead irritating make one yearn real thing blah blah blah anyone actually know woody allen character know branagh performance though featuring mannerism stuttering whining lot hand gesture hardly wart impersonation branagh brings along little woody allen charm actually allows character flaw apparent woody flawed guy know love anyway really funny really witty really intelligent branagh allen bit flat bad charm yes like still sure really good person character lee simon first seen set aforementioned movie hit extra actress winona ryder go interview griffith take childhood home make pas denies sorta learn flashback lee sucked trying celebrity thanks mid life crisis appearance high school reunion since quit job travel journalist become gossip journalist sort covering movie set place celebrity congregate meet maybe sell script bank robbery movie deep personal crisis divorced wife several year allen regular judy davis continues quest sexual happiness boucing girlfriend girlfriend fling fling course film griffith come escapade model charlize theron polymorphously perverse glad see allen using new joke ha ha take wild ride different anita ekberg segment la dolce vita following safe relationship smart working woman famke janssen relationship almost assures success continued escapade ryder fancy story juxtaposed davis flip stumble onto happiness run handsome friendly tv exec joe mantegna land job furthers career national status lee fumbling selfishly trying ensure happiness davis becomes happy become kind woman always hated loving without thing result film high medium medium take film sitations scene exactly work help pat allen back trying place really great scene opening sequence theron good wished ended banana scene bebe neuwirth droll ever perhaps best sequence romp hot hell teen idol brandon darrow played none leo dicaprio un dicaprio esque fan could sit film never look way ignites screen intensity spare nothing showing character narcissistically tyrannical totally heartbreaking lee come talk script read find wild day ride go atlantic city watch fight gamble wind hotel room darrow get flame gretchen mol lends one leftover groupie allen writing scene good almost recommend film almost really liked film despite fact mess despite fact film really need good old fashioned rewrite allen still smart insightful film though joke either stale misplaced seem cartoonish even environment allen still manages get across film exactly celebrity may seem extremely touch want celebrity equate celebrity hood happiness never get close enough actual celebrity see really happy may appear surface get close enough lee davis character lee obsessed phenomenon davis take arm length never get involved soon becomes one besides witty one thing film allen great woody allen feel may exactly fresh lively totally brilliant depiction subject yes part woody allen oeuvre merely blip annie hall shadow fog either go prove one make film like maybe godard could possibly take totally horrible metaphor like one beginning make work twice pos\n",
      "Sample review in testing set:\n",
      "mar attack c jack nicholson glenn close annette bening martin short danny devito rod steiger pierce brosnan sarah jessica parker michael j fox jim brown pam grier joe baker natalie portman christina applegate lisa marie tom jones director tim burton finest film date many compare tale martian invade earth independence day even though story similar really two distinctly different film however whole mar attack much entertaining loved really right frame mind enjoy film completely wacked unlike anything ever seen silly tone film set easy sit back throw logic window logic comedy mix plot simple martian invade earth different invasion film usually evil alien versus heroic human time however goofy alien versus equally goofy human martian computer generated funniest thing seen long time look funny move funny language hilarious special effect effect mar attack flawless one seen date computer animation martian combined goofy personality given make seem real couple scene work mainly involving sarah jessica parker pierce brosnan board alien ship also glenn close overacts tremendously thankfully limited screen time much actually applauded silently character meet demise many big laugh film said right mood could funnier certainly funny enough yes entertained absolutely personal note like thank whomever cast rod steiger favorite actor film war crazy general decker finally many small part direct video garbage minor tv role steiger back big screen real movie many people see given type role give real performance job well good line dialogue preview audience saw film really seemed enjoy pos\n"
     ]
    }
   ],
   "source": [
    "print(\"Sample review in training set:\")\n",
    "print(X_train[0], y_train[0])\n",
    "print(\"Sample review in testing set:\")\n",
    "print(X_test[0], y_test[0])"
   ]
  },
  {
   "cell_type": "markdown",
   "id": "764b7b6c",
   "metadata": {},
   "source": [
    "### Vectorize the text data"
   ]
  },
  {
   "cell_type": "code",
   "execution_count": 47,
   "id": "9f544f87",
   "metadata": {},
   "outputs": [],
   "source": [
    "vectorizer = CountVectorizer()\n",
    "X_train_counts = vectorizer.fit_transform(X_train)\n",
    "X_test_counts = vectorizer.transform(X_test)"
   ]
  },
  {
   "cell_type": "code",
   "execution_count": 48,
   "id": "610d9d2b",
   "metadata": {},
   "outputs": [
    {
     "name": "stdout",
     "output_type": "stream",
     "text": [
      "Number of features: 31561\n"
     ]
    }
   ],
   "source": [
    "print(\"Number of features:\", len(vectorizer.get_feature_names_out()))"
   ]
  },
  {
   "cell_type": "markdown",
   "id": "8ca6c8a0",
   "metadata": {},
   "source": [
    "### Train a Naive Bayes classifier"
   ]
  },
  {
   "cell_type": "code",
   "execution_count": 49,
   "id": "c159d2d4",
   "metadata": {},
   "outputs": [
    {
     "data": {
      "text/plain": [
       "MultinomialNB()"
      ]
     },
     "execution_count": 49,
     "metadata": {},
     "output_type": "execute_result"
    }
   ],
   "source": [
    "classifier = MultinomialNB()\n",
    "classifier.fit(X_train_counts, y_train)"
   ]
  },
  {
   "cell_type": "code",
   "execution_count": 50,
   "id": "6b1801e9",
   "metadata": {},
   "outputs": [
    {
     "name": "stdout",
     "output_type": "stream",
     "text": [
      "Accuracy: 0.8025\n",
      "Classification Report:\n",
      "              precision    recall  f1-score   support\n",
      "\n",
      "         neg       0.77      0.84      0.80       193\n",
      "         pos       0.84      0.76      0.80       207\n",
      "\n",
      "    accuracy                           0.80       400\n",
      "   macro avg       0.80      0.80      0.80       400\n",
      "weighted avg       0.81      0.80      0.80       400\n",
      "\n"
     ]
    }
   ],
   "source": [
    "y_pred = classifier.predict(X_test_counts)\n",
    "print(\"Accuracy:\", accuracy_score(y_test, y_pred))\n",
    "print(\"Classification Report:\")\n",
    "print(classification_report(y_test, y_pred))"
   ]
  },
  {
   "cell_type": "code",
   "execution_count": 51,
   "id": "b193b35f",
   "metadata": {},
   "outputs": [
    {
     "name": "stdout",
     "output_type": "stream",
     "text": [
      "Confusion Matrix:\n",
      "[[163  30]\n",
      " [ 49 158]]\n"
     ]
    }
   ],
   "source": [
    "conf_matrix = confusion_matrix(y_test, y_pred)\n",
    "print(\"Confusion Matrix:\")\n",
    "print(conf_matrix)"
   ]
  },
  {
   "cell_type": "code",
   "execution_count": 54,
   "id": "64e4d3c8",
   "metadata": {},
   "outputs": [
    {
     "data": {
      "image/png": "[encoded data removed]",
      "text/plain": [
       "<Figure size 800x600 with 2 Axes>"
      ]
     },
     "metadata": {},
     "output_type": "display_data"
    }
   ],
   "source": [
    "import seaborn as sns\n",
    "\n",
    "# Plot Confusion Matrix using seaborn\n",
    "plt.figure(figsize=(8, 6))\n",
    "plt.title(\"Confusion Matrix\")\n",
    "conf_matrix = confusion_matrix(y_test, y_pred)\n",
    "\n",
    "# Plot non-normalized confusion matrix\n",
    "sns.heatmap(conf_matrix, annot=True, fmt=\"d\", cmap=\"Blues\", xticklabels=labels, yticklabels=labels)\n",
    "plt.xlabel('Predicted Label')\n",
    "plt.ylabel('True Label')\n",
    "plt.show()"
   ]
  },
  {
   "cell_type": "markdown",
   "id": "396ede11",
   "metadata": {},
   "source": [
    "The confusion matrix provides a summary of the performance of a classification model. It is particularly useful for understanding how well the model is classifying instances into different classes.\n",
    "\n",
    "In the context of sentiment analysis, where we have binary classification (positive and negative sentiments), the confusion matrix provides the following information:\n",
    "\n",
    "True Positives (TP): The number of positive instances that were correctly classified as positive. In sentiment analysis, this would be the number of positive reviews that were correctly classified as positive.\n",
    "\n",
    "True Negatives (TN): The number of negative instances that were correctly classified as negative. In sentiment analysis, this would be the number of negative reviews that were correctly classified as negative.\n",
    "\n",
    "False Positives (FP): The number of negative instances that were incorrectly classified as positive. In sentiment analysis, this would be the number of negative reviews that were incorrectly classified as positive.\n",
    "\n",
    "False Negatives (FN): The number of positive instances that were incorrectly classified as negative. In sentiment analysis, this would be the number of positive reviews that were incorrectly classified as negative.\n",
    "\n",
    "    True Positives (TP): 158\n",
    "    True Negatives (TN): 163\n",
    "    False Positives (FP): 30\n",
    "    False Negatives (FN): 49\n",
    "\n",
    "This means:\n",
    "\n",
    "    163 negative reviews were correctly classified as negative (True Negatives).\n",
    "    158 positive reviews were correctly classified as positive (True Positives).\n",
    "    30 negative reviews were incorrectly classified as positive (False Positives).\n",
    "    49 positive reviews were incorrectly classified as negative (False Negatives)."
   ]
  },
  {
   "cell_type": "code",
   "execution_count": 55,
   "id": "a5184e36",
   "metadata": {},
   "outputs": [
    {
     "name": "stdout",
     "output_type": "stream",
     "text": [
      "Accuracy: 0.8025\n"
     ]
    }
   ],
   "source": [
    "from sklearn.metrics import accuracy_score\n",
    "\n",
    "# Calculate accuracy\n",
    "accuracy = accuracy_score(y_test, y_pred)\n",
    "print(\"Accuracy:\", accuracy)"
   ]
  }
 ],
 "metadata": {
  "kernelspec": {
   "display_name": "Python 3 (ipykernel)",
   "language": "python",
   "name": "python3"
  },
  "language_info": {
   "codemirror_mode": {
    "name": "ipython",
    "version": 3
   },
   "file_extension": ".py",
   "mimetype": "text/x-python",
   "name": "python",
   "nbconvert_exporter": "python",
   "pygments_lexer": "ipython3",
   "version": "3.11.4"
  }
 },
 "nbformat": 4,
 "nbformat_minor": 5
}
